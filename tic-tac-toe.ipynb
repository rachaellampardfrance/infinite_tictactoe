{
 "cells": [
  {
   "cell_type": "code",
   "execution_count": 7,
   "metadata": {},
   "outputs": [],
   "source": [
    "game_list = [\n",
    "    [' ', ' ', ' '],\n",
    "    [' ', ' ', ' '],\n",
    "    [' ', ' ', ' ']\n",
    "]"
   ]
  },
  {
   "cell_type": "code",
   "execution_count": 8,
   "metadata": {},
   "outputs": [],
   "source": [
    "player_mark = 'X'"
   ]
  },
  {
   "cell_type": "code",
   "execution_count": 9,
   "metadata": {},
   "outputs": [],
   "source": [
    "def user_place(location):\n",
    "    # Initial\n",
    "    place = 'False'\n",
    "    acceptable_range = range(1,4)\n",
    "    within_range = False\n",
    "\n",
    "    # Two conditions\n",
    "    # Digit and within range\n",
    "    while place.isdigit() == False or within_range == False:\n",
    "        #  input\n",
    "        place = input(f\"select {location} location 1-3: \")\n",
    "        # Digit check\n",
    "        if place.isdigit() == False:\n",
    "            print(f\"{place} is not a digit\")\n",
    "            place = 'False'\n",
    "        # Range check\n",
    "        elif int(place) in acceptable_range:\n",
    "            return int(place) - 1\n",
    "        print(f\"{place} is not a valid placement location\")\n",
    "        within_range = False\n",
    "        # print(f\" user_place {location}: {place}\")"
   ]
  },
  {
   "cell_type": "code",
   "execution_count": 10,
   "metadata": {},
   "outputs": [],
   "source": [
    "def game_board(game_log):\n",
    "    div_top = \" ___________ \"\n",
    "    div_mid = \"|---|---|---|\"\n",
    "    div_bottom = f\" {chr(8254)*11} \"\n",
    "\n",
    "    table = f\"\"\"\n",
    "    {div_top}\n",
    "    | {game_log[0][0]} | {game_log[0][1]} | {game_log[0][2]} |\n",
    "    {div_mid}\n",
    "    | {game_log[1][0]} | {game_log[1][1]} | {game_log[1][2]} |\n",
    "    {div_mid}\n",
    "    | {game_log[2][0]} | {game_log[2][1]} | {game_log[2][2]} |\n",
    "    {div_bottom}\n",
    "    \"\"\"\n",
    "\n",
    "    print(table)"
   ]
  },
  {
   "cell_type": "code",
   "execution_count": null,
   "metadata": {},
   "outputs": [],
   "source": [
    "# main\n",
    "game_list[user_place('row')][user_place('column')] = player_mark\n",
    "game_board(game_list)\n",
    "\n"
   ]
  }
 ],
 "metadata": {
  "kernelspec": {
   "display_name": "Python 3",
   "language": "python",
   "name": "python3"
  },
  "language_info": {
   "codemirror_mode": {
    "name": "ipython",
    "version": 3
   },
   "file_extension": ".py",
   "mimetype": "text/x-python",
   "name": "python",
   "nbconvert_exporter": "python",
   "pygments_lexer": "ipython3",
   "version": "3.12.5"
  }
 },
 "nbformat": 4,
 "nbformat_minor": 2
}
