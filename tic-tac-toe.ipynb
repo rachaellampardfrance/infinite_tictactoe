{
 "cells": [
  {
   "cell_type": "code",
   "execution_count": 64,
   "metadata": {},
   "outputs": [],
   "source": [
    "def user_place():\n",
    "    place = 'False'\n",
    "\n",
    "    while place.isdigit() == False:\n",
    "        place = input(\"input a placement location 1-9: \")\n",
    "        if place.isdigit() == False:\n",
    "            print(f\"{place} is not a digit\")\n",
    "            place = 'False'\n",
    "        elif not 0 < int(place) < 9:\n",
    "            print(f\"{place} is not a valid placement location\")\n",
    "            place = 'False'\n",
    "    \n",
    "    return int(place)"
   ]
  },
  {
   "cell_type": "code",
   "execution_count": 65,
   "metadata": {},
   "outputs": [
    {
     "name": "stdout",
     "output_type": "stream",
     "text": [
      "45 is not a valid placement location\n",
      "56 is not a valid placement location\n",
      "45 is not a valid placement location\n"
     ]
    },
    {
     "data": {
      "text/plain": [
       "3"
      ]
     },
     "execution_count": 65,
     "metadata": {},
     "output_type": "execute_result"
    }
   ],
   "source": [
    "user_place()"
   ]
  },
  {
   "cell_type": "code",
   "execution_count": null,
   "metadata": {},
   "outputs": [],
   "source": [
    "r1c1 = \"X\"\n",
    "r1c2 = \"O\"\n",
    "r1c3 = \"O\"\n",
    "r2c1 = \" \"\n",
    "r2c2 = \"X\"\n",
    "r2c3 = \" \"\n",
    "r3c1 = \" \"\n",
    "r3c2 = \" \"\n",
    "r3c3 = \"X\"\n",
    "\n",
    "row1 = f\"| {r1c1} | {r1c2} | {r1c3} |\"\n",
    "row2 = f\"| {r2c1} | {r2c2} | {r2c3} |\"\n",
    "row3 = f\"| {r3c1} | {r3c2} | {r3c3} |\"\n",
    "div_y_ax_arrow = \"^\"\n",
    "div_y_ax = \"y\"\n",
    "div_top = \" ___________ \"\n",
    "div_mid = \"|---|---|---|\"\n",
    "div_bottom = f\" {chr(8254)*11}   x >\"\n",
    "\n",
    "table = f\"\"\"\n",
    "{div_y_ax_arrow}\n",
    "{div_y_ax}\n",
    "{div_top}\n",
    "{row1}\n",
    "{div_mid}\n",
    "{row2}\n",
    "{div_mid}\n",
    "{row3}\n",
    "{div_bottom}\n",
    "\"\"\"\n",
    "\n",
    "print(table)"
   ]
  }
 ],
 "metadata": {
  "kernelspec": {
   "display_name": "Python 3",
   "language": "python",
   "name": "python3"
  },
  "language_info": {
   "codemirror_mode": {
    "name": "ipython",
    "version": 3
   },
   "file_extension": ".py",
   "mimetype": "text/x-python",
   "name": "python",
   "nbconvert_exporter": "python",
   "pygments_lexer": "ipython3",
   "version": "3.12.5"
  }
 },
 "nbformat": 4,
 "nbformat_minor": 2
}
